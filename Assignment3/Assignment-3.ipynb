{
 "cells": [
  {
   "cell_type": "code",
   "execution_count": 1,
   "metadata": {},
   "outputs": [],
   "source": [
    "%matplotlib inline\n",
    "import matplotlib.pyplot as plt\n",
    "import numpy as np\n",
    "import math\n",
    "import statistics\n",
    "import urllib.request\n",
    "import copy"
   ]
  },
  {
   "cell_type": "markdown",
   "metadata": {},
   "source": [
    "## Question 0"
   ]
  },
  {
   "cell_type": "code",
   "execution_count": 2,
   "metadata": {},
   "outputs": [],
   "source": [
    "# Iris Data Script\n",
    "irisUrl = \"https://archive.ics.uci.edu/ml/machine-learning-databases/iris/iris.data\"\n",
    "iris_raw_data = urllib.request.urlopen(irisUrl)\n",
    "irisHeaders = ['sepal_length', 'sepal_width', 'petal_length', 'petal_width', 'label']\n",
    "irisData = np.genfromtxt(iris_raw_data, delimiter=',', dtype=None, usecols=(range(4)))"
   ]
  },
  {
   "cell_type": "markdown",
   "metadata": {},
   "source": [
    "## Question 1"
   ]
  },
  {
   "cell_type": "code",
   "execution_count": 3,
   "metadata": {},
   "outputs": [],
   "source": [
    "\"\"\"\n",
    "Function to find distance between two vectors\n",
    "\"\"\"\n",
    "def LP_distance(x,y,p):\n",
    "    totalDistance = 0\n",
    "    for i,j in zip(x,y):\n",
    "        newDistance = (abs(i-j)**p)\n",
    "        totalDistance += newDistance\n",
    "    return (totalDistance**(1/p))"
   ]
  },
  {
   "cell_type": "markdown",
   "metadata": {},
   "source": [
    "#### Generating random K amount of points for our initial centroids"
   ]
  },
  {
   "cell_type": "code",
   "execution_count": 4,
   "metadata": {},
   "outputs": [],
   "source": [
    "def make_centroids(x_input,K):\n",
    "    cluster_k = np.random.randint(0,len(x_input)-1,K)\n",
    "    initial_centroids = [irisData[i] for i in cluster_k]\n",
    "    return initial_centroids"
   ]
  },
  {
   "cell_type": "code",
   "execution_count": 5,
   "metadata": {},
   "outputs": [],
   "source": [
    "initial_centroids = make_centroids(irisData,3)"
   ]
  },
  {
   "cell_type": "code",
   "execution_count": 6,
   "metadata": {},
   "outputs": [],
   "source": [
    "def k_means_cs171(x_input, K, init_centroids):\n",
    "    p = 2 # Using Euclidean distance\n",
    "    cluster_centroids = init_centroids\n",
    "    change_val = True\n",
    "    cluster_assignments = []\n",
    "    while(change_val):\n",
    "        # Assigning each point to a cluster\n",
    "        cluster_assignments = []\n",
    "        for x in range(len(x_input)):\n",
    "            min_distances = [LP_distance(x_input[x],c,p) for c in cluster_centroids]\n",
    "            min_index = min_distances.index(min(min_distances))\n",
    "            cluster_assignments.append(min_index)\n",
    "        \n",
    "        # Gather all the points of each cluster and determining if change occurred\n",
    "        old_cluster_centroids = copy.deepcopy(cluster_centroids)\n",
    "        for i in range(K):\n",
    "            cluster_points = [x_input[j] for j in range(len(x_input)) if cluster_assignments[j] == i]\n",
    "            if len(cluster_points) == 0:\n",
    "                continue\n",
    "            else:\n",
    "                cluster_centroids[i] = list(np.mean(cluster_points, axis=0))  \n",
    "            \n",
    "        if np.allclose(cluster_centroids,old_cluster_centroids,atol=1e-08):\n",
    "            change_val = False        \n",
    "        \n",
    "    return cluster_assignments,cluster_centroids"
   ]
  },
  {
   "cell_type": "code",
   "execution_count": 7,
   "metadata": {},
   "outputs": [],
   "source": [
    "cluster_assignments,cluster_centroids = k_means_cs171(irisData, 3, initial_centroids)\n",
    "#print(cluster_assignments)\n",
    "#print(cluster_centroids)"
   ]
  },
  {
   "cell_type": "code",
   "execution_count": 8,
   "metadata": {},
   "outputs": [],
   "source": [
    "def sum_of_squares_error(x_input, assignments, centroids):\n",
    "    squares_sum = 0\n",
    "    for entry,entry_assignment in zip(x_input,assignments):\n",
    "        squares_sum += (LP_distance(entry,centroids[entry_assignment],1))**2\n",
    "    return squares_sum"
   ]
  },
  {
   "cell_type": "code",
   "execution_count": 9,
   "metadata": {},
   "outputs": [
    {
     "data": {
      "text/plain": [
       "225.27918239132123"
      ]
     },
     "execution_count": 9,
     "metadata": {},
     "output_type": "execute_result"
    }
   ],
   "source": [
    "sum_of_squares_error(irisData, cluster_assignments,cluster_centroids)"
   ]
  },
  {
   "cell_type": "markdown",
   "metadata": {},
   "source": [
    "## Question 2"
   ]
  },
  {
   "cell_type": "markdown",
   "metadata": {},
   "source": [
    "### Knee Plot"
   ]
  },
  {
   "cell_type": "code",
   "execution_count": 10,
   "metadata": {},
   "outputs": [],
   "source": [
    "def create_knee_plot(x_input):\n",
    "    K_list = list(range(1,11))\n",
    "    knee_list = []\n",
    "\n",
    "    for k_entry in K_list:\n",
    "        initial_centroids_knee = make_centroids(x_input,k_entry)\n",
    "        cluster_assignments_knee, cluster_centroids_knee = k_means_cs171(x_input, k_entry, initial_centroids_knee)\n",
    "        error_result_knee = sum_of_squares_error(x_input, cluster_assignments_knee, cluster_centroids_knee)\n",
    "        knee_list.append((k_entry, error_result_knee))\n",
    "    return knee_list"
   ]
  },
  {
   "cell_type": "code",
   "execution_count": 11,
   "metadata": {},
   "outputs": [
    {
     "data": {
      "image/png": "[encoded data removed]",
      "text/plain": [
       "<matplotlib.figure.Figure at 0x7fd59c954668>"
      ]
     },
     "metadata": {},
     "output_type": "display_data"
    }
   ],
   "source": [
    "first_knee_list = create_knee_plot(irisData)\n",
    "x_list = [x[0] for x in first_knee_list]\n",
    "y_list = [y[1] for y in first_knee_list]\n",
    "\n",
    "\n",
    "\n",
    "plt.figure(1)\n",
    "plt.xlabel('# of Clusters')\n",
    "plt.ylabel('Sum Squared Error')\n",
    "plt.xticks(list(range(11)))\n",
    "plt.plot(x_list,y_list, '-o')\n",
    "plt.show()"
   ]
  },
  {
   "cell_type": "markdown",
   "metadata": {},
   "source": [
    "### Sensitivity analysis"
   ]
  },
  {
   "cell_type": "code",
   "execution_count": 12,
   "metadata": {},
   "outputs": [],
   "source": [
    "def sens_analysis(x_input, max_iter):\n",
    "    sens_knee_list = []\n",
    "    for iteration in range(max_iter):\n",
    "        knee_plot_tuples = create_knee_plot(x_input)\n",
    "        entry_list = [entry[1] for entry in knee_plot_tuples]\n",
    "        sens_knee_list.append(entry_list)\n",
    "    mean_list = np.mean(sens_knee_list, axis=0)\n",
    "    stDev_list = np.std(sens_knee_list, axis=0)\n",
    "    return mean_list, stDev_list"
   ]
  },
  {
   "cell_type": "code",
   "execution_count": 13,
   "metadata": {},
   "outputs": [
    {
     "data": {
      "image/png": "[encoded data removed]",
      "text/plain": [
       "<matplotlib.figure.Figure at 0x7fd59c3033c8>"
      ]
     },
     "metadata": {},
     "output_type": "display_data"
    },
    {
     "data": {
      "image/png": "[encoded data removed]",
      "text/plain": [
       "<matplotlib.figure.Figure at 0x7fd59c286da0>"
      ]
     },
     "metadata": {},
     "output_type": "display_data"
    },
    {
     "data": {
      "image/png": "[encoded data removed]",
      "text/plain": [
       "<matplotlib.figure.Figure at 0x7fd59c1da278>"
      ]
     },
     "metadata": {},
     "output_type": "display_data"
    }
   ],
   "source": [
    "max_iter_list = [2,10,100]\n",
    "knee_x_list = list(range(1,11))\n",
    "for max_iter in max_iter_list:\n",
    "    knee_mean, knee_stDev = sens_analysis(irisData, max_iter)    \n",
    "    plt.figure(1)\n",
    "    plt.xlabel('# of Clusters')\n",
    "    plt.ylabel('Sum Squared Error')\n",
    "    plt.xticks(list(range(11)))\n",
    "    plt.errorbar(knee_x_list, knee_mean, yerr=knee_stDev,fmt='-')\n",
    "    plt.show()"
   ]
  },
  {
   "cell_type": "markdown",
   "metadata": {},
   "source": [
    "## Sources\n",
    "1. https://docs.scipy.org/doc/numpy/reference/generated/numpy.allclose.html\n",
    "2. https://docs.python.org/3/library/copy.html\n",
    "3. https://docs.scipy.org/doc/numpy/reference/generated/numpy.mean.html\n",
    "4. "
   ]
  },
  {
   "cell_type": "code",
   "execution_count": null,
   "metadata": {},
   "outputs": [],
   "source": []
  }
 ],
 "metadata": {
  "kernelspec": {
   "display_name": "Python 3",
   "language": "python",
   "name": "python3"
  },
  "language_info": {
   "codemirror_mode": {
    "name": "ipython",
    "version": 3
   },
   "file_extension": ".py",
   "mimetype": "text/x-python",
   "name": "python",
   "nbconvert_exporter": "python",
   "pygments_lexer": "ipython3",
   "version": "3.6.4"
  }
 },
 "nbformat": 4,
 "nbformat_minor": 2
}
