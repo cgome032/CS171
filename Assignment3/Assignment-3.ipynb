{
 "cells": [
  {
   "cell_type": "code",
   "execution_count": 175,
   "metadata": {},
   "outputs": [],
   "source": [
    "import matplotlib.pyplot as plt\n",
    "import numpy as np\n",
    "import math\n",
    "import urllib.request\n",
    "import copy"
   ]
  },
  {
   "cell_type": "markdown",
   "metadata": {},
   "source": [
    "## Question 0"
   ]
  },
  {
   "cell_type": "code",
   "execution_count": 176,
   "metadata": {},
   "outputs": [],
   "source": [
    "# Iris Data Script\n",
    "irisUrl = \"https://archive.ics.uci.edu/ml/machine-learning-databases/iris/iris.data\"\n",
    "iris_raw_data = urllib.request.urlopen(irisUrl)\n",
    "irisHeaders = ['sepal_length', 'sepal_width', 'petal_length', 'petal_width', 'label']\n",
    "irisData = np.genfromtxt(iris_raw_data, delimiter=',', dtype=None, usecols=(range(4)))"
   ]
  },
  {
   "cell_type": "markdown",
   "metadata": {},
   "source": [
    "## Question 1"
   ]
  },
  {
   "cell_type": "code",
   "execution_count": 177,
   "metadata": {},
   "outputs": [],
   "source": [
    "\"\"\"\n",
    "Function to find distance between two vectors\n",
    "\"\"\"\n",
    "def LP_distance(x,y,p):\n",
    "    totalDistance = 0\n",
    "    for i,j in zip(x,y):\n",
    "        newDistance = (abs(i-j)**p)\n",
    "        totalDistance += newDistance\n",
    "    return (totalDistance**(1/p))"
   ]
  },
  {
   "cell_type": "markdown",
   "metadata": {},
   "source": [
    "#### Generating random K amount of points for our initial centroids"
   ]
  },
  {
   "cell_type": "code",
   "execution_count": 181,
   "metadata": {},
   "outputs": [],
   "source": [
    "def make_centroids(x_input,K):\n",
    "    cluster_k = np.random.randint(0,len(x_input)-1,K)\n",
    "    initial_centroids = [irisData[i] for i in cluster_k]\n",
    "    return initial_centroids"
   ]
  },
  {
   "cell_type": "code",
   "execution_count": 187,
   "metadata": {},
   "outputs": [
    {
     "name": "stdout",
     "output_type": "stream",
     "text": [
      "[array([ 5.5,  3.5,  1.3,  0.2]), array([ 6.5,  3.2,  5.1,  2. ]), array([ 7.6,  3. ,  6.6,  2.1])]\n"
     ]
    }
   ],
   "source": [
    "\"\"\"\n",
    "cluster_k = np.random.randint(0,len(irisData)-1,3)\n",
    "initial_centroids = [irisData[i] for i in cluster_k]\n",
    "\"\"\"\n",
    "\n",
    "initial_centroids = make_centroids(irisData,3)\n",
    "print(initial_centroids)"
   ]
  },
  {
   "cell_type": "code",
   "execution_count": 188,
   "metadata": {},
   "outputs": [],
   "source": [
    "def k_means_cs171(x_input, K, init_centroids):\n",
    "    iterations = 1\n",
    "    p = 2 # Using Euclidean distance\n",
    "    #cluster_k = list(np.random.randint(0,len(x_input)-1,K))\n",
    "    cluster_centroids = init_centroids\n",
    "    change_val = True\n",
    "    cluster_assignments = []\n",
    "    while(change_val):\n",
    "        # Assigning each point to a cluster\n",
    "        cluster_assignments = []\n",
    "        for x in range(len(x_input)):\n",
    "            min_distances = [LP_distance(x_input[x],c,p) for c in cluster_centroids]\n",
    "            min_index = min_distances.index(min(min_distances))\n",
    "            cluster_assignments.append(min_index)\n",
    "        \n",
    "        # Gather all the points of each cluster and determining if change occurred\n",
    "        old_cluster_centroids = copy.deepcopy(cluster_centroids)\n",
    "        for i in range(K):\n",
    "            cluster_points = [x_input[j] for j in range(len(x_input)) if cluster_assignments[j] == i]\n",
    "            cluster_centroids[i] = list(np.mean(cluster_points, axis=0))  \n",
    "            \n",
    "        if np.allclose(cluster_centroids,old_cluster_centroids,atol=1e-08):\n",
    "            change_val = False\n",
    "        print(iterations)\n",
    "        iterations+=1\n",
    "        \n",
    "        \n",
    "        \n",
    "    return cluster_assignments,cluster_centroids"
   ]
  },
  {
   "cell_type": "code",
   "execution_count": 189,
   "metadata": {},
   "outputs": [
    {
     "name": "stdout",
     "output_type": "stream",
     "text": [
      "1\n",
      "2\n",
      "3\n",
      "4\n",
      "5\n",
      "6\n",
      "[0, 0, 0, 0, 0, 0, 0, 0, 0, 0, 0, 0, 0, 0, 0, 0, 0, 0, 0, 0, 0, 0, 0, 0, 0, 0, 0, 0, 0, 0, 0, 0, 0, 0, 0, 0, 0, 0, 0, 0, 0, 0, 0, 0, 0, 0, 0, 0, 0, 0, 1, 1, 2, 1, 1, 1, 1, 1, 1, 1, 1, 1, 1, 1, 1, 1, 1, 1, 1, 1, 1, 1, 1, 1, 1, 1, 1, 2, 1, 1, 1, 1, 1, 1, 1, 1, 1, 1, 1, 1, 1, 1, 1, 1, 1, 1, 1, 1, 1, 1, 2, 1, 2, 2, 2, 2, 1, 2, 2, 2, 2, 2, 2, 1, 1, 2, 2, 2, 2, 1, 2, 1, 2, 1, 2, 2, 1, 1, 2, 2, 2, 2, 2, 1, 2, 2, 2, 2, 1, 2, 2, 2, 1, 2, 2, 2, 1, 2, 2, 1]\n",
      "[[5.0059999999999993, 3.4180000000000006, 1.464, 0.24399999999999991], [5.9016129032258071, 2.7483870967741941, 4.3935483870967751, 1.4338709677419357], [6.8500000000000005, 3.0736842105263151, 5.7421052631578933, 2.0710526315789473]]\n"
     ]
    }
   ],
   "source": [
    "cluster_assignments,cluster_centroids = k_means_cs171(irisData, 3, initial_centroids)\n",
    "print(cluster_assignments)\n",
    "print(cluster_centroids)"
   ]
  },
  {
   "cell_type": "markdown",
   "metadata": {},
   "source": [
    "## Question 2"
   ]
  },
  {
   "cell_type": "code",
   "execution_count": null,
   "metadata": {},
   "outputs": [],
   "source": []
  },
  {
   "cell_type": "markdown",
   "metadata": {},
   "source": [
    "## Sources\n",
    "1. https://docs.scipy.org/doc/numpy/reference/generated/numpy.allclose.html\n",
    "2. https://docs.python.org/3/library/copy.html\n",
    "3. "
   ]
  }
 ],
 "metadata": {
  "kernelspec": {
   "display_name": "Python 3",
   "language": "python",
   "name": "python3"
  },
  "language_info": {
   "codemirror_mode": {
    "name": "ipython",
    "version": 3
   },
   "file_extension": ".py",
   "mimetype": "text/x-python",
   "name": "python",
   "nbconvert_exporter": "python",
   "pygments_lexer": "ipython3",
   "version": "3.6.4"
  }
 },
 "nbformat": 4,
 "nbformat_minor": 2
}
