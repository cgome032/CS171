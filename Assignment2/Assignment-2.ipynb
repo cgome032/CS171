{
 "cells": [
  {
   "cell_type": "markdown",
   "metadata": {},
   "source": [
    "## Question 0: Getting real data"
   ]
  },
  {
   "cell_type": "code",
   "execution_count": 11,
   "metadata": {},
   "outputs": [],
   "source": [
    "import numpy as np\n",
    "import matplotlib.pyplot as plt\n",
    "import urllib.request\n",
    "from operator import itemgetter\n",
    "from collections import Counter\n",
    "import math\n",
    "\n",
    "dataUrl = \"https://archive.ics.uci.edu/ml/machine-learning-databases/breast-cancer-wisconsin/breast-cancer-wisconsin.data\"\n",
    "rawData = urllib.request.urlopen(dataUrl)\n",
    "dataHeaders = ['code_number', 'clump_thickness', 'cell_size', 'cell_shape', 'marginal_adhesion', 'single_cell_size', 'bare_nuclei', 'bland_chromatin', 'normal_nucleoli', 'mitoses', 'class']\n",
    "\n",
    "data = np.genfromtxt(rawData, delimiter=',', dtype=int, missing_values={6:'?'}, filling_values={6:999})\n",
    "#np.random.shuffle(data)\n",
    "\n",
    "split = math.ceil(len(data) * .80)\n",
    "\n",
    "trainingData, testData = data[:split], data[split:]\n",
    "y_train = [i[10] for i in trainingData]\n",
    "\n",
    "# Need to keep this around to check if accurate\n",
    "x_train = [i[10] for i in testData] \n",
    "\n",
    "trainingData = np.delete(trainingData, 10, axis=1)\n",
    "testData = np.delete(testData, 10, axis=1)\n",
    "\n",
    "trainingData = np.delete(trainingData, 0, axis=1)\n",
    "testData = np.delete(testData, 0, axis=1)"
   ]
  },
  {
   "cell_type": "markdown",
   "metadata": {},
   "source": [
    "## Question 1: k-Nearest Neighbor Classifier"
   ]
  },
  {
   "cell_type": "code",
   "execution_count": 12,
   "metadata": {},
   "outputs": [
    {
     "name": "stdout",
     "output_type": "stream",
     "text": [
      "99.28057553956835\n"
     ]
    }
   ],
   "source": [
    "\"\"\"\n",
    "Function to find distance between two vectors\n",
    "\"\"\"\n",
    "def LP_distance(x,y,p):\n",
    "    totalDistance = 0\n",
    "    for i,j in zip(x,y):\n",
    "        newDistance = (abs(i-j)**p)\n",
    "        totalDistance += newDistance\n",
    "    return (totalDistance**(1/p))\n",
    "\n",
    "\n",
    "\"\"\"\n",
    "Function gets k neighbors for one tuple\n",
    "\"\"\"\n",
    "def get_k_neighbors(trainingData, testTuple, y_train, k, p):\n",
    "    allDistances = []\n",
    "    trainCnt = 0\n",
    "    for dataEntry in trainingData:\n",
    "        newDistance = LP_distance(dataEntry, testTuple, p)\n",
    "        allDistances.append((newDistance, y_train[trainCnt]))\n",
    "        trainCnt += 1\n",
    "    allDistances = sorted(allDistances, key=itemgetter(0))\n",
    "    \n",
    "    kDistances = [val[1] for val in allDistances[:k]]\n",
    "    return kDistances\n",
    "    \n",
    "\n",
    "def knn_classifier(x_test, x_train, y_train, k, p):\n",
    "    y_pred = []\n",
    "    \n",
    "    for testValue in x_test:\n",
    "        \n",
    "        neighbors = get_k_neighbors(x_train, testValue, y_train, k, p)\n",
    "        countClass = list(Counter(neighbors).keys())\n",
    "        y_pred.append(countClass[0])\n",
    "    \n",
    "    return y_pred\n",
    "\n",
    "\n",
    "result = knn_classifier(testData, trainingData, y_train, 1, 2)\n",
    "\n",
    "sameCount = 0\n",
    "for i,j in zip(x_train, result):\n",
    "    if i == j:\n",
    "        sameCount += 1\n",
    "\n",
    "print(sameCount/len(x_train) * 100)\n",
    "        \n",
    "\n",
    "\n",
    "\n"
   ]
  },
  {
   "cell_type": "markdown",
   "metadata": {},
   "source": [
    "## Sources\n",
    "\n",
    "1. https://stackoverflow.com/questions/10695139/sort-a-list-of-tuples-by-2nd-item-integer-value\n",
    "2. https://docs.scipy.org/doc/numpy-1.14.0/reference/generated/numpy.delete.html\n",
    "3. "
   ]
  },
  {
   "cell_type": "code",
   "execution_count": null,
   "metadata": {},
   "outputs": [],
   "source": []
  }
 ],
 "metadata": {
  "kernelspec": {
   "display_name": "Python 3",
   "language": "python",
   "name": "python3"
  },
  "language_info": {
   "codemirror_mode": {
    "name": "ipython",
    "version": 3
   },
   "file_extension": ".py",
   "mimetype": "text/x-python",
   "name": "python",
   "nbconvert_exporter": "python",
   "pygments_lexer": "ipython3",
   "version": "3.6.4"
  }
 },
 "nbformat": 4,
 "nbformat_minor": 2
}
