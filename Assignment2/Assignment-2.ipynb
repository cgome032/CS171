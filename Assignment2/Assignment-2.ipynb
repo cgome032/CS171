{
 "cells": [
  {
   "cell_type": "markdown",
   "metadata": {},
   "source": [
    "## Question 0: Getting real data"
   ]
  },
  {
   "cell_type": "code",
   "execution_count": 24,
   "metadata": {},
   "outputs": [],
   "source": [
    "import numpy as np\n",
    "import matplotlib.pyplot as plt\n",
    "import urllib.request\n",
    "from operator import itemgetter\n",
    "from collections import Counter\n",
    "import math\n",
    "import statistics as stats\n",
    "import matplotlib.pyplot as plt\n",
    "\n",
    "dataUrl = \"https://archive.ics.uci.edu/ml/machine-learning-databases/breast-cancer-wisconsin/breast-cancer-wisconsin.data\"\n",
    "rawData = urllib.request.urlopen(dataUrl)\n",
    "dataHeaders = ['code_number', 'clump_thickness', 'cell_size', 'cell_shape', 'marginal_adhesion', 'single_cell_size', 'bare_nuclei', 'bland_chromatin', 'normal_nucleoli', 'mitoses', 'class']\n",
    "\n",
    "\n",
    "\n",
    "data = np.genfromtxt(rawData, delimiter=',', dtype=int, missing_values={6:'?'}, filling_values={6:4})\n",
    "\n",
    "\n",
    "split = math.ceil(len(data) * .80)\n",
    "\n",
    "trainingData, testData = data[:split], data[split:]\n",
    "y_train = [i[10] for i in trainingData]\n",
    "\n",
    "# Need to keep this around to check if accurate\n",
    "x_train = [i[10] for i in testData] \n",
    "\n",
    "trainingData = np.delete(trainingData, 10, axis=1)\n",
    "testData = np.delete(testData, 10, axis=1)\n",
    "\n",
    "trainingData = np.delete(trainingData, 0, axis=1)\n",
    "testData = np.delete(testData, 0, axis=1)"
   ]
  },
  {
   "cell_type": "markdown",
   "metadata": {},
   "source": [
    "### Question 0\n",
    "For the missing data values in the 7th column which is the Bare Nuclei, I decided to fill in the ? values with the average of the entire column, which I found to be 3.5.  I rounded up to 4 to keep things consistent with the rest of the values given to us.\n",
    "I also deleted the first column since it was unnecessary for our calculations."
   ]
  },
  {
   "cell_type": "markdown",
   "metadata": {},
   "source": [
    "## Question 1: k-Nearest Neighbor Classifier"
   ]
  },
  {
   "cell_type": "code",
   "execution_count": 25,
   "metadata": {},
   "outputs": [
    {
     "name": "stdout",
     "output_type": "stream",
     "text": [
      "98.56115107913669\n"
     ]
    }
   ],
   "source": [
    "\"\"\"\n",
    "Function to find distance between two vectors\n",
    "\"\"\"\n",
    "def LP_distance(x,y,p):\n",
    "    totalDistance = 0\n",
    "    for i,j in zip(x,y):\n",
    "        newDistance = (abs(i-j)**p)\n",
    "        totalDistance += newDistance\n",
    "    return (totalDistance**(1/p))\n",
    "\n",
    "\n",
    "\"\"\"\n",
    "Function gets k neighbors for one tuple\n",
    "\"\"\"\n",
    "def get_k_neighbors(trainingData, testTuple, y_train, k, p):\n",
    "    allDistances = []\n",
    "    trainCnt = 0\n",
    "    for dataEntry in trainingData:\n",
    "        newDistance = LP_distance(dataEntry, testTuple, p)\n",
    "        allDistances.append((newDistance, y_train[trainCnt]))\n",
    "        trainCnt += 1\n",
    "    allDistances = sorted(allDistances, key=itemgetter(0))\n",
    "    \n",
    "    kDistances = [val[1] for val in allDistances[:k]]\n",
    "    return kDistances\n",
    "    \n",
    "\n",
    "def knn_classifier(x_test, x_train, y_train, k, p):\n",
    "    y_pred = []\n",
    "    \n",
    "    for testValue in x_test:\n",
    "        \n",
    "        neighbors = get_k_neighbors(x_train, testValue, y_train, k, p)\n",
    "        countClass = list(Counter(neighbors).keys())\n",
    "        y_pred.append(countClass[0])\n",
    "    \n",
    "    return y_pred\n",
    "\n",
    "\n",
    "result = knn_classifier(testData, trainingData, y_train, 2, 1)\n",
    "\n",
    "sameCount = 0\n",
    "for i,j in zip(x_train, result):\n",
    "    if i == j:\n",
    "        sameCount += 1\n",
    "\n",
    "print(sameCount/len(x_train) * 100)\n",
    "        \n",
    "\n",
    "\n",
    "\n"
   ]
  },
  {
   "cell_type": "markdown",
   "metadata": {},
   "source": [
    "### Question 1\n",
    "My knn_classifier first obtains a list of k neighbors and sorts it by distances in order to return the k nearest neighbors.  I tested the accuracy of my classifier using a 80/20 split and I got around a 97% accuracy without randomizing the dataset."
   ]
  },
  {
   "cell_type": "markdown",
   "metadata": {},
   "source": [
    "## Question 2: Evaluation"
   ]
  },
  {
   "cell_type": "markdown",
   "metadata": {},
   "source": [
    "### Splitting up the data into 10 sections"
   ]
  },
  {
   "cell_type": "code",
   "execution_count": 26,
   "metadata": {},
   "outputs": [],
   "source": [
    "np.random.shuffle(data)\n",
    "\n",
    "\n",
    "splitData = data[:]\n",
    "\n",
    "#splitData = [data[i:i + split_ten] for i in range(0, len(data), split_ten)]\n",
    "\n",
    "count = 0\n",
    "rand_y_train = [i[10] for i in splitData]\n",
    "splitData = np.delete(splitData, 10, axis=1)\n",
    "splitData= np.delete(splitData, 0, axis=1)   "
   ]
  },
  {
   "cell_type": "markdown",
   "metadata": {},
   "source": [
    "### Defining all of our functions for our metrics"
   ]
  },
  {
   "cell_type": "code",
   "execution_count": 27,
   "metadata": {},
   "outputs": [],
   "source": [
    "def testAccuracy(y_pred, y_actual):\n",
    "    sameCount = 0\n",
    "    for i,j in zip(y_pred, y_actual):\n",
    "        if i == j:\n",
    "            sameCount += 1\n",
    "    accuracy = (sameCount/len(y_actual)) * 100\n",
    "    return accuracy\n",
    "\n",
    "def testSensitivity(y_pred, y_actual):\n",
    "    tp_count = 0\n",
    "    fn_count = 0\n",
    "    for i,j in zip(y_pred, y_actual):\n",
    "        if i == 4 and j == 4:\n",
    "            tp_count += 1\n",
    "        if i == 2 and j == 4:\n",
    "            fn_count += 1\n",
    "        \n",
    "    sensitivity = tp_count/(tp_count + fn_count) * 100\n",
    "    return sensitivity\n",
    "\n",
    "def testSpecificity(y_pred, y_actual):\n",
    "    tn_count = 0\n",
    "    fp_count = 0\n",
    "    for i,j in zip(y_pred, y_actual):\n",
    "        if i == 2 and j == 2:\n",
    "            tn_count += 1\n",
    "        if i == 4 and j == 2:\n",
    "            fp_count += 1\n",
    "    specificity = tn_count/(tn_count + fp_count) * 100\n",
    "    return specificity"
   ]
  },
  {
   "cell_type": "markdown",
   "metadata": {},
   "source": [
    "### Defining function for 10-fold cross validation"
   ]
  },
  {
   "cell_type": "code",
   "execution_count": 28,
   "metadata": {},
   "outputs": [],
   "source": [
    "\"\"\"\n",
    "Input:\n",
    "\n",
    "splitData: Contains test data and training data split into 10 sections\n",
    "y_train: Contains training data classes\n",
    "\n",
    "Output:\n",
    "y_splitPred: Contains test data classes\n",
    "\n",
    "\"\"\"\n",
    "def tenCrossValidation(totalData, total_y_train, k, p, accuracyList, sensitivityList, specificityList):\n",
    "    \n",
    "    y_predList = []\n",
    "    split_ten = math.ceil(len(totalData)/10)\n",
    "    currentPos = 0\n",
    "\n",
    "    for current in range(10):\n",
    "        # Getting the current slice of data to test on\n",
    "        testData = totalData[currentPos:currentPos+split_ten]\n",
    "        y_testClass = total_y_train[currentPos:currentPos+split_ten]\n",
    "\n",
    "        # Getting the current data to be training from\n",
    "        trainingData = []\n",
    "        y_trainCopy = []\n",
    "\n",
    "        if currentPos == 0:\n",
    "            trainingData = totalData[currentPos+split_ten:]\n",
    "            y_trainCopy = total_y_train[currentPos+split_ten:]\n",
    "\n",
    "        elif currentPos+split_ten >= (len(totalData)-1):\n",
    "            trainingData = totalData[0:currentPos]\n",
    "            y_trainCopy = total_y_train[0:currentPos]\n",
    "\n",
    "\n",
    "        else:\n",
    "            a_train = totalData[0:currentPos]\n",
    "            b_train = totalData[currentPos+split_ten:]\n",
    "\n",
    "            trainingData = np.concatenate((a_train, b_train), axis=0)\n",
    "\n",
    "            a_y = total_y_train[0:currentPos]\n",
    "            b_y = total_y_train[currentPos+split_ten:]\n",
    "\n",
    "            y_trainCopy = np.concatenate((a_y, b_y), axis=0)\n",
    "\n",
    "        \n",
    "        fresh_y_pred = knn_classifier(testData, trainingData, y_trainCopy, k, p)\n",
    "        accuracy = testAccuracy(fresh_y_pred, y_testClass)\n",
    "        sensitivity = testSensitivity(fresh_y_pred, y_testClass)\n",
    "        specificity = testSpecificity(fresh_y_pred, y_testClass)\n",
    "        \n",
    "        accuracyList.append(accuracy)\n",
    "        sensitivityList.append(sensitivity)\n",
    "        specificityList.append(specificity)\n",
    "        \n",
    "        y_predList.append(fresh_y_pred)\n",
    "\n",
    "        currentPos += split_ten\n",
    "    return y_predList"
   ]
  },
  {
   "cell_type": "markdown",
   "metadata": {},
   "source": [
    "### Gathering the results"
   ]
  },
  {
   "cell_type": "code",
   "execution_count": 29,
   "metadata": {},
   "outputs": [],
   "source": [
    "# tenCrossValidation will return a list of lists containing the\n",
    "# prediction for our knn algorithm\n",
    "\n",
    "mAccuracyList = []\n",
    "mSensitivityList = []\n",
    "mSpecificityList = []\n",
    "\n",
    "stAccuracyList = []\n",
    "stSensitivityList = []\n",
    "stSpecificityList = []\n",
    "for p in range(2):\n",
    "    # Sample mean lists\n",
    "    mean_accuracy_list = []\n",
    "    mean_sensitivity_list = []\n",
    "    mean_specificity_list = []\n",
    "    \n",
    "    # Standard deviation lists\n",
    "    stdev_accuracy_list = []\n",
    "    stdev_sensitivity_list = []\n",
    "    stdev_specificity_list = []\n",
    "    for k in range(10):\n",
    "        accuracyList = []\n",
    "        sensitivityList = []\n",
    "        specificityList = []\n",
    "        \n",
    "        y_predList = tenCrossValidation(splitData, rand_y_train, k+1,p+1, accuracyList, sensitivityList, specificityList)\n",
    "        \n",
    "        # Calculate Averages\n",
    "        mean_accuracy = stats.mean(accuracyList)\n",
    "        mean_sensitivity = stats.mean(sensitivityList)\n",
    "        mean_specificity = stats.mean(specificityList)\n",
    "        \n",
    "        # Append to lists\n",
    "        mean_accuracy_list.append(mean_accuracy)\n",
    "        mean_sensitivity_list.append(mean_sensitivity)\n",
    "        mean_specificity_list.append(mean_specificity)\n",
    "        \n",
    "        \n",
    "        # Calculate Standard Deviations\n",
    "        stdev_accuracy = stats.stdev(accuracyList)\n",
    "        stdev_sensitivity = stats.stdev(sensitivityList)\n",
    "        stdev_specificity = stats.stdev(specificityList)\n",
    "        \n",
    "        # Append to lists  \n",
    "        stdev_accuracy_list.append(stdev_accuracy)\n",
    "        stdev_sensitivity_list.append(stdev_sensitivity)\n",
    "        stdev_specificity_list.append(stdev_specificity)\n",
    "        \n",
    "        # Delete references\n",
    "        del accuracyList\n",
    "        del sensitivityList\n",
    "        del specificityList\n",
    "        \n",
    "    mAccuracyList.append(mean_accuracy_list)\n",
    "    mSensitivityList.append(mean_sensitivity_list)\n",
    "    mSpecificityList.append(mean_specificity_list)\n",
    "\n",
    "    stAccuracyList.append(stdev_accuracy_list)\n",
    "    stSensitivityList.append(stdev_sensitivity_list)\n",
    "    stSpecificityList.append(stdev_specificity_list)"
   ]
  },
  {
   "cell_type": "code",
   "execution_count": 30,
   "metadata": {},
   "outputs": [
    {
     "data": {
      "image/png": "[encoded data removed]",
      "text/plain": [
       "<matplotlib.figure.Figure at 0x7f06619b4128>"
      ]
     },
     "metadata": {},
     "output_type": "display_data"
    }
   ],
   "source": [
    "# Accuracy Plots\n",
    "\n",
    "x_coor = list(range(1,11))\n",
    "\n",
    "plt.figure(1)\n",
    "plt.xlabel('# of Neighbors')\n",
    "plt.ylabel('Performance of Accuracy')\n",
    "plt.axis([1,10,80,100])\n",
    "plt.errorbar(x_coor, mAccuracyList[0], yerr=stAccuracyList[0],fmt='o')\n",
    "plt.errorbar(x_coor, mAccuracyList[1], yerr=stAccuracyList[1],fmt='o')\n",
    "plt.legend(('P=1','P=2'))\n",
    "plt.title(\"Accuracy\")\n",
    "plt.show()"
   ]
  },
  {
   "cell_type": "code",
   "execution_count": 31,
   "metadata": {},
   "outputs": [
    {
     "data": {
      "image/png": "[encoded data removed]",
      "text/plain": [
       "<matplotlib.figure.Figure at 0x7f0661972240>"
      ]
     },
     "metadata": {},
     "output_type": "display_data"
    }
   ],
   "source": [
    "# Sensitivty Plots\n",
    "x_coor = list(range(1,11))\n",
    "\n",
    "plt.figure(1)\n",
    "plt.xlabel('# of Neighbors')\n",
    "plt.ylabel('Performance of Sensitivity')\n",
    "plt.axis([1,10,80,100])\n",
    "plt.errorbar(x_coor, mSensitivityList[0], yerr=stSensitivityList[0],fmt='o')\n",
    "plt.errorbar(x_coor, mSensitivityList[1], yerr=stSensitivityList[1],fmt='o')\n",
    "plt.legend(('P=1','P=2'))\n",
    "plt.title(\"Sensitivity\")\n",
    "plt.show()\n",
    "\n"
   ]
  },
  {
   "cell_type": "code",
   "execution_count": 32,
   "metadata": {},
   "outputs": [
    {
     "data": {
      "image/png": "[encoded data removed]",
      "text/plain": [
       "<matplotlib.figure.Figure at 0x7f0661977550>"
      ]
     },
     "metadata": {},
     "output_type": "display_data"
    }
   ],
   "source": [
    "# Specificity Plots\n",
    "x_coor = list(range(1,11))\n",
    "\n",
    "plt.figure(1)\n",
    "plt.xlabel('# of Neighbors')\n",
    "plt.ylabel('Performance of Specificity')\n",
    "plt.axis([1,10,80,100])\n",
    "plt.errorbar(x_coor, mSpecificityList[0], yerr=stSpecificityList[0],fmt='o')\n",
    "plt.errorbar(x_coor, mSpecificityList[1], yerr=stSpecificityList[1],fmt='o')\n",
    "plt.legend(('P=1','P=2'))\n",
    "plt.title(\"Specificity\")\n",
    "plt.show()"
   ]
  },
  {
   "cell_type": "markdown",
   "metadata": {},
   "source": [
    "### Question 2\n",
    "\n",
    "With the graphs shown above, it seems clear that choosing a value of p==1 gives us better performance for our classifier.  As for Ks, its not as lear but it seems choosing a neighbor amount of 3 gives us better performance for our classifier.  "
   ]
  },
  {
   "cell_type": "markdown",
   "metadata": {},
   "source": [
    "## Sources\n",
    "\n",
    "1. https://stackoverflow.com/questions/10695139/sort-a-list-of-tuples-by-2nd-item-integer-value\n",
    "2. https://docs.scipy.org/doc/numpy-1.14.0/reference/generated/numpy.delete.html\n",
    "3. https://stackoverflow.com/questions/952914/making-a-flat-list-out-of-list-of-lists-in-python\n",
    "4. https://docs.python.org/3/library/statistics.html\n",
    "5. https://docs.scipy.org/doc/numpy-1.13.0/reference/arrays.indexing.html"
   ]
  }
 ],
 "metadata": {
  "kernelspec": {
   "display_name": "Python 3",
   "language": "python",
   "name": "python3"
  },
  "language_info": {
   "codemirror_mode": {
    "name": "ipython",
    "version": 3
   },
   "file_extension": ".py",
   "mimetype": "text/x-python",
   "name": "python",
   "nbconvert_exporter": "python",
   "pygments_lexer": "ipython3",
   "version": "3.6.4"
  }
 },
 "nbformat": 4,
 "nbformat_minor": 2
}
